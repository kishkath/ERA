{
  "nbformat": 4,
  "nbformat_minor": 0,
  "metadata": {
    "colab": {
      "provenance": [],
      "gpuType": "T4"
    },
    "kernelspec": {
      "name": "python3",
      "display_name": "Python 3"
    },
    "language_info": {
      "name": "python"
    },
    "accelerator": "GPU"
  },
  "cells": [
    {
      "cell_type": "markdown",
      "source": [
        "CODE BLOCK: 1"
      ],
      "metadata": {
        "id": "n09vaEgP6pLj"
      }
    },
    {
      "cell_type": "code",
      "execution_count": null,
      "metadata": {
        "id": "6PlbomWY3RSq"
      },
      "outputs": [],
      "source": [
        "import torch\n",
        "# torch library used for building models and training them and deploying them\n",
        "import torch.nn as nn\n",
        "# nn stands for neural networks, which contains all the modules & buiding blocks of neural networks.\n",
        "# nn contain all classes, codes\n",
        "import torch.nn.functional as F\n",
        "# nn.functional is the subset of nn, where it contains all hte funtions like activation, loss functions\n",
        "import torch.optim as optim\n",
        "# contains the opimitizer that updates the parameers\n",
        "from torchvision import datasets, transforms\n",
        "# imports all datasets, transformations from torchvision"
      ]
    },
    {
      "cell_type": "code",
      "source": [
        "#  Write a neural network that takes in 3 images of dimensions: (3, 32, 32), (8, 48, 48) and (1, 16, 16) and outputs 10 neurons (10 classes).\n",
        "#  You can use any kind of network. (mandatory)"
      ],
      "metadata": {
        "id": "jegl6l08A0wL"
      },
      "execution_count": null,
      "outputs": []
    },
    {
      "cell_type": "code",
      "source": [
        "class NeuralNet(nn.Module):\n",
        "  def __init__(self):\n",
        "    super(NeuralNet,self).__init__()\n",
        "\n",
        "    self.linear1 = nn.Linear(3*32*32,512)\n",
        "    self.linear12 = nn.Linear(512,128)\n",
        "\n",
        "    self.linear2 = nn.Linear(1*16*16,128)\n",
        "    self.linear22 = nn.Linear(128,128)\n",
        "    \n",
        "    self.linear3 = nn.Linear(8*48*48,1024)\n",
        "    self.linear32 = nn.Linear(1024,256)\n",
        "    self.linear33 = nn.Linear(256,128)\n",
        "\n",
        "    self.final_fc = nn.Linear(128*3,256)\n",
        "    self.final_fc1 = nn.Linear(256,10)\n",
        "  \n",
        "  def forward(self,x1,x2,x3):\n",
        "    x1  = self.linear12(self.linear1(x))\n",
        "\n",
        "    x2= self.linear22(self.linear2(x))\n",
        "\n",
        "    x3 = self.linear33(self.linear32(self.linear3(x)))\n",
        "\n",
        "    x = torch.cat((x1,x2,x3),dim=1)\n",
        "    x = self.final_fc1(self.final_fc(x))\n",
        "\n",
        "    return x \n"
      ],
      "metadata": {
        "id": "poSbs2su_1tB"
      },
      "execution_count": null,
      "outputs": []
    },
    {
      "cell_type": "code",
      "source": [
        "model = NeuralNet()\n",
        "model"
      ],
      "metadata": {
        "colab": {
          "base_uri": "https://localhost:8080/"
        },
        "id": "LO-izkqHJXKD",
        "outputId": "1442adf1-9fed-47e5-9b7d-bd73846763a5"
      },
      "execution_count": null,
      "outputs": [
        {
          "output_type": "execute_result",
          "data": {
            "text/plain": [
              "NeuralNet(\n",
              "  (linear1): Linear(in_features=3072, out_features=512, bias=True)\n",
              "  (linear12): Linear(in_features=512, out_features=128, bias=True)\n",
              "  (linear2): Linear(in_features=256, out_features=128, bias=True)\n",
              "  (linear22): Linear(in_features=128, out_features=128, bias=True)\n",
              "  (linear3): Linear(in_features=18432, out_features=1024, bias=True)\n",
              "  (linear32): Linear(in_features=1024, out_features=256, bias=True)\n",
              "  (linear33): Linear(in_features=256, out_features=128, bias=True)\n",
              "  (final_fc): Linear(in_features=384, out_features=256, bias=True)\n",
              "  (final_fc1): Linear(in_features=256, out_features=10, bias=True)\n",
              ")"
            ]
          },
          "metadata": {},
          "execution_count": 5
        }
      ]
    },
    {
      "cell_type": "markdown",
      "source": [
        "CODE BLOCK: 2"
      ],
      "metadata": {
        "id": "VjBHHQVA6sXt"
      }
    },
    {
      "cell_type": "code",
      "source": [
        "# CUDA?\n",
        "cuda = torch.cuda.is_available()\n",
        "# checks whether gpu si available or not\n",
        "print(\"CUDA Available?\", cuda)\n",
        "# prints device"
      ],
      "metadata": {
        "colab": {
          "base_uri": "https://localhost:8080/"
        },
        "id": "94BxVVBP3WwS",
        "outputId": "4dc19213-3174-44c2-833e-c15444aea2fd"
      },
      "execution_count": null,
      "outputs": [
        {
          "output_type": "stream",
          "name": "stdout",
          "text": [
            "CUDA Available? True\n"
          ]
        }
      ]
    },
    {
      "cell_type": "markdown",
      "source": [
        "CODE BLOCK: 3"
      ],
      "metadata": {
        "id": "3UHq59Sw6tmW"
      }
    },
    {
      "cell_type": "code",
      "source": [
        "# Train data transformations\n",
        "train_transforms = transforms.Compose([\n",
        "    transforms.RandomApply([transforms.CenterCrop(22), ], p=0.1),\n",
        "    transforms.Resize((28, 28)),\n",
        "    transforms.RandomRotation((-15., 15.), fill=0),\n",
        "    transforms.ToTensor(),\n",
        "    transforms.Normalize((0.1307,), (0.3081,)),\n",
        "    ])\n",
        "\n",
        "# Test data transformations\n",
        "test_transforms = transforms.Compose([\n",
        "    transforms.ToTensor(),\n",
        "    transforms.Normalize((0.1307,), (0.3081,))\n",
        "    ])"
      ],
      "metadata": {
        "id": "KpshQ2Ug38m2"
      },
      "execution_count": null,
      "outputs": []
    },
    {
      "cell_type": "markdown",
      "source": [
        "CODE BLOCK: 4"
      ],
      "metadata": {
        "id": "zQm17pM46zHL"
      }
    },
    {
      "cell_type": "code",
      "source": [
        "train_data = datasets.MNIST('../data', train=True, download=True, transform=train_transforms)\n",
        "test_data = datasets.MNIST('../data', train=False, download=True, transform=test_transforms) # True to False, train_transforms to test_transforms"
      ],
      "metadata": {
        "id": "JB79ZYW13-AO",
        "colab": {
          "base_uri": "https://localhost:8080/"
        },
        "outputId": "6369d78d-ad9a-438d-f64d-ef8ed788f63c"
      },
      "execution_count": null,
      "outputs": [
        {
          "output_type": "stream",
          "name": "stdout",
          "text": [
            "Downloading http://yann.lecun.com/exdb/mnist/train-images-idx3-ubyte.gz\n",
            "Downloading http://yann.lecun.com/exdb/mnist/train-images-idx3-ubyte.gz to ../data/MNIST/raw/train-images-idx3-ubyte.gz\n"
          ]
        },
        {
          "output_type": "stream",
          "name": "stderr",
          "text": [
            "100%|██████████| 9912422/9912422 [00:00<00:00, 322670034.26it/s]"
          ]
        },
        {
          "output_type": "stream",
          "name": "stdout",
          "text": [
            "Extracting ../data/MNIST/raw/train-images-idx3-ubyte.gz to ../data/MNIST/raw\n"
          ]
        },
        {
          "output_type": "stream",
          "name": "stderr",
          "text": [
            "\n"
          ]
        },
        {
          "output_type": "stream",
          "name": "stdout",
          "text": [
            "\n",
            "Downloading http://yann.lecun.com/exdb/mnist/train-labels-idx1-ubyte.gz\n",
            "Downloading http://yann.lecun.com/exdb/mnist/train-labels-idx1-ubyte.gz to ../data/MNIST/raw/train-labels-idx1-ubyte.gz\n"
          ]
        },
        {
          "output_type": "stream",
          "name": "stderr",
          "text": [
            "100%|██████████| 28881/28881 [00:00<00:00, 98085582.04it/s]\n"
          ]
        },
        {
          "output_type": "stream",
          "name": "stdout",
          "text": [
            "Extracting ../data/MNIST/raw/train-labels-idx1-ubyte.gz to ../data/MNIST/raw\n",
            "\n",
            "Downloading http://yann.lecun.com/exdb/mnist/t10k-images-idx3-ubyte.gz\n",
            "Downloading http://yann.lecun.com/exdb/mnist/t10k-images-idx3-ubyte.gz to ../data/MNIST/raw/t10k-images-idx3-ubyte.gz\n"
          ]
        },
        {
          "output_type": "stream",
          "name": "stderr",
          "text": [
            "100%|██████████| 1648877/1648877 [00:00<00:00, 146840447.51it/s]"
          ]
        },
        {
          "output_type": "stream",
          "name": "stdout",
          "text": [
            "Extracting ../data/MNIST/raw/t10k-images-idx3-ubyte.gz to ../data/MNIST/raw\n",
            "\n",
            "Downloading http://yann.lecun.com/exdb/mnist/t10k-labels-idx1-ubyte.gz\n",
            "Downloading http://yann.lecun.com/exdb/mnist/t10k-labels-idx1-ubyte.gz to ../data/MNIST/raw/t10k-labels-idx1-ubyte.gz\n"
          ]
        },
        {
          "output_type": "stream",
          "name": "stderr",
          "text": [
            "\n",
            "100%|██████████| 4542/4542 [00:00<00:00, 19321023.09it/s]\n"
          ]
        },
        {
          "output_type": "stream",
          "name": "stdout",
          "text": [
            "Extracting ../data/MNIST/raw/t10k-labels-idx1-ubyte.gz to ../data/MNIST/raw\n",
            "\n"
          ]
        }
      ]
    },
    {
      "cell_type": "code",
      "source": [
        "len(train_data),len(test_data) "
      ],
      "metadata": {
        "colab": {
          "base_uri": "https://localhost:8080/"
        },
        "id": "88V_MmqxmuPg",
        "outputId": "62566029-1ebf-4e0a-a3d7-748300f34f95"
      },
      "execution_count": null,
      "outputs": [
        {
          "output_type": "execute_result",
          "data": {
            "text/plain": [
              "(60000, 10000)"
            ]
          },
          "metadata": {},
          "execution_count": 7
        }
      ]
    },
    {
      "cell_type": "markdown",
      "source": [
        "CODE BLOCK: 5"
      ],
      "metadata": {
        "id": "_PKSHxto6116"
      }
    },
    {
      "cell_type": "code",
      "source": [
        "batch_size = 512\n",
        "#  batch size kept as 512\n",
        "kwargs = {'batch_size': batch_size, 'shuffle': False, 'num_workers': 2, 'pin_memory': True}\n",
        "# keyword arguments ued in python, which is passed as a parameter at the end.\n",
        "train_loader = torch.utils.data.DataLoader(train_data, **kwargs)\n",
        "test_loader = torch.utils.data.DataLoader(test_data, **kwargs) # train_data to test_data"
      ],
      "metadata": {
        "id": "avCKK1uL4A68"
      },
      "execution_count": null,
      "outputs": []
    },
    {
      "cell_type": "code",
      "source": [
        "len(train_loader)"
      ],
      "metadata": {
        "colab": {
          "base_uri": "https://localhost:8080/"
        },
        "id": "H4TXtmHLnbSa",
        "outputId": "30ed326d-6b41-4d40-eaaa-508fec1dedc9"
      },
      "execution_count": null,
      "outputs": [
        {
          "output_type": "execute_result",
          "data": {
            "text/plain": [
              "118"
            ]
          },
          "metadata": {},
          "execution_count": 13
        }
      ]
    },
    {
      "cell_type": "code",
      "source": [
        "118*512"
      ],
      "metadata": {
        "colab": {
          "base_uri": "https://localhost:8080/"
        },
        "id": "Y0szhsLXngWO",
        "outputId": "aa2c1f8a-6a54-419a-a956-9653c758590e"
      },
      "execution_count": null,
      "outputs": [
        {
          "output_type": "execute_result",
          "data": {
            "text/plain": [
              "60416"
            ]
          },
          "metadata": {},
          "execution_count": 14
        }
      ]
    },
    {
      "cell_type": "markdown",
      "source": [
        "CODE BLOCK: 6"
      ],
      "metadata": {
        "id": "Hi_0rfq56-29"
      }
    },
    {
      "cell_type": "code",
      "source": [
        "import matplotlib.pyplot as plt\n",
        "\n",
        "batch_data, batch_label = next(iter(train_loader)) \n",
        "\n",
        "fig = plt.figure(figsize=(14,7))\n",
        "\n",
        "for i in range(12):\n",
        "  plt.subplot(3,4,i+1)\n",
        "  plt.tight_layout()\n",
        "  plt.imshow(batch_data[i].squeeze(0), cmap='gray')\n",
        "  plt.title(batch_label[i].item())\n",
        "  plt.xticks([])\n",
        "  plt.yticks([])"
      ],
      "metadata": {
        "colab": {
          "base_uri": "https://localhost:8080/",
          "height": 683
        },
        "id": "Hx7QkLcw4Epc",
        "outputId": "2bfd1b4d-dc56-4398-c6e8-7f05a309355d"
      },
      "execution_count": null,
      "outputs": [
        {
          "output_type": "display_data",
          "data": {
            "text/plain": [
              "<Figure size 1400x700 with 12 Axes>"
            ],
            "image/png": "[encoded data removed]"
          },
          "metadata": {}
        }
      ]
    },
    {
      "cell_type": "markdown",
      "source": [
        "CODE BLOCK: 7"
      ],
      "metadata": {
        "id": "y3XbVJSb7Aee"
      }
    },
    {
      "cell_type": "code",
      "source": [
        "class Net(nn.Module):\n",
        "    #This defines the structure of the NN.\n",
        "    '''\n",
        "    n_out = (n_in + 2P - K)/s + 1 \n",
        "    r_out = rin + j_in*(K-1)\n",
        "    j_out = j_in*S \n",
        "    j_in = r_in\n",
        "    '''\n",
        "    def __init__(self):\n",
        "        super(Net, self).__init__()\n",
        "        self.conv1 = nn.Conv2d(1, 32, kernel_size=3,bias=False)\n",
        "        # paramters : 32*9 + 32 = 320\n",
        "        self.conv2 = nn.Conv2d(32, 64, kernel_size=3,bias=False)\n",
        "        # parameters: 64*9*32 + 64 = 18432, 18496\n",
        "        self.conv3 = nn.Conv2d(64, 128, kernel_size=3,bias=False)\n",
        "        # parameters: 9*64*128 + 128 = 73728, 73856\n",
        "        self.conv4 = nn.Conv2d(128, 512, kernel_size=3,bias=False)\n",
        "        # parameters: 512*128*9 + 512\n",
        "        self.fc1 = nn.Linear(512*4*4, 50,bias=False)\n",
        "        self.fc2 = nn.Linear(50, 10, bias=False)\n",
        "\n",
        "    def forward(self, x):\n",
        "        x = F.relu(self.conv1(x)) # removed ,2\n",
        "        # n_in = 1, r_in = 1, J_in = 1, S = 1, n_out = 26, r_out = 1 + 1(2) = 3\n",
        "        # parameters added\n",
        "        x = F.relu(F.max_pool2d(self.conv2(x), 2)) \n",
        "        # Conv : n_in = 26, r_in = 3, J_in = 1, S=1, n_out = 24, r_out = 3 + (2)*1 = 5, J_out = 1\n",
        "        # MaxPool: n_in = 24, r_in = 5,J_in = 1,S=1, n_out = (24-2)/2 + 1 = 12, r_out = 5 + (2-1)*1 = 6, J_out = 2\n",
        "        x = F.relu(self.conv3(x)) # removed ,2\n",
        "        # n_in = 12, r_in = 6, J_in = 2, S = 1 ,n_out = 10, r_out = 6 + (3-1)*2 = 10, J_out = 2\n",
        "        x = F.relu(F.max_pool2d(self.conv4(x), 2)) \n",
        "        # Conv: n_in = 10, r_in = 10, J_in = 2, S = 1, n_out = 8, r_out = 10 + 1 = 11, J_out = 2 \n",
        "        # MaxPool: n_in = 8, r_in = 11, j_in = 2, S = 2, n_out = (8-2)/2 + 1 = 4, r_out = 11 + (2-1)*2 = 13, J_out = 4\n",
        "        x = x.view(-1,512*4*4)\n",
        "        x = F.relu(self.fc1(x))\n",
        "        x = self.fc2(x)\n",
        "        return F.log_softmax(x, dim=1)"
      ],
      "metadata": {
        "id": "UHBolvMH4F8y"
      },
      "execution_count": null,
      "outputs": []
    },
    {
      "cell_type": "code",
      "source": [],
      "metadata": {
        "id": "RlTUgVbi-XLo"
      },
      "execution_count": null,
      "outputs": []
    },
    {
      "cell_type": "markdown",
      "source": [
        "CODE BLOCK: 8"
      ],
      "metadata": {
        "id": "89gd4_s7AO2y"
      }
    },
    {
      "cell_type": "code",
      "source": [
        "# Data to plot accuracy and loss graphs\n",
        "train_losses = []\n",
        "test_losses = []\n",
        "train_acc = []\n",
        "test_acc = []\n",
        "\n",
        "test_incorrect_pred = {'images': [], 'ground_truths': [], 'predicted_vals': []}"
      ],
      "metadata": {
        "id": "7du4zM474LvT"
      },
      "execution_count": null,
      "outputs": []
    },
    {
      "cell_type": "markdown",
      "source": [
        "CODE BLOCK: 8"
      ],
      "metadata": {
        "id": "kCwIPHqwAQgB"
      }
    },
    {
      "cell_type": "code",
      "source": [
        "\n",
        "from tqdm import tqdm\n",
        "\n",
        "def GetCorrectPredCount(pPrediction, pLabels):\n",
        "  return pPrediction.argmax(dim=1).eq(pLabels).sum().item()\n",
        "\n",
        "def train(model, device, train_loader, optimizer):\n",
        "  model.train() # settting model to train mode \n",
        "  pbar = tqdm(train_loader) # For GUI, performance metric\n",
        "\n",
        "  train_loss = 0 # train_los\n",
        "  correct = 0\n",
        "  processed = 0\n",
        "    \n",
        "  for batch_idx, (data, target) in enumerate(pbar):\n",
        "    data, target = data.to(device), target.to(device)\n",
        "    optimizer.zero_grad() # settting optimizer value as zero, as there might be the accumulation of previous batch gradients as if not zero_grad()\n",
        "  \n",
        "    # Predict\n",
        "    pred = model(data)\n",
        "\n",
        "    # Calculate loss\n",
        "    loss = F.nll_loss(pred, target)\n",
        "    train_loss+=loss.item()\n",
        "\n",
        "    # Backpropagation\n",
        "    loss.backward() # Backpropogation\n",
        "    optimizer.step() # updates the parameter\n",
        "    \n",
        "    correct += GetCorrectPredCount(pred, target) # comparison of target, preidction,\n",
        "    processed += len(data)\n",
        "\n",
        "    pbar.set_description(desc= f'Train: Loss={loss.item():0.4f} Batch_id={batch_idx} Accuracy={100*correct/processed:0.2f}')\n",
        "\n",
        "  train_acc.append(100*correct/processed)\n",
        "  train_losses.append(train_loss/len(train_loader))\n",
        "\n",
        "def test(model, device, test_loader):\n",
        "    model.eval() # set model to evaluation mode\n",
        "\n",
        "    test_loss = 0\n",
        "    correct = 0\n",
        "\n",
        "    with torch.no_grad(): # No test data lekaage happens, no gardient calc. happpens bcause of this line.\n",
        "        for batch_idx, (data, target) in enumerate(test_loader):\n",
        "            data, target = data.to(device), target.to(device)\n",
        "\n",
        "            output = model(data)\n",
        "            test_loss += F.nll_loss(output, target, reduction='sum').item()  # sum up batch loss\n",
        "\n",
        "            correct += GetCorrectPredCount(output, target)\n",
        "\n",
        "\n",
        "    test_loss /= len(test_loader.dataset)\n",
        "    test_acc.append(100. * correct / len(test_loader.dataset))\n",
        "    test_losses.append(test_loss)\n",
        "\n",
        "    print('Test set: Average loss: {:.4f}, Accuracy: {}/{} ({:.2f}%)\\n'.format(\n",
        "        test_loss, correct, len(test_loader.dataset),\n",
        "        100. * correct / len(test_loader.dataset)))\n",
        "     "
      ],
      "metadata": {
        "id": "gpNw3-sy4QGd"
      },
      "execution_count": null,
      "outputs": []
    },
    {
      "cell_type": "markdown",
      "source": [
        "CODE BLOCK: 9"
      ],
      "metadata": {
        "id": "09GYKBGRAT5M"
      }
    },
    {
      "cell_type": "code",
      "source": [
        "# adding 1 lines of code\n",
        "device = \"cuda\" if cuda else \"CPU\"\n",
        "model = Net().to(device) # device --> cuda\n",
        "optimizer = optim.SGD(model.parameters(), lr=0.01, momentum=0.9) # lr from 10.01 to 0.01\n",
        "scheduler = optim.lr_scheduler.StepLR(optimizer, step_size=2, gamma=0.1, verbose=True) # stepsize from 15 to 2\n",
        "num_epochs = 20\n",
        "\n",
        "for epoch in range(1, num_epochs+1):\n",
        "  print(f'Epoch {epoch}')\n",
        "  train(model, device, train_loader, optimizer)\n",
        "  test(model, device, test_loader) # train_loader to test_loader\n",
        "  scheduler.step()"
      ],
      "metadata": {
        "colab": {
          "base_uri": "https://localhost:8080/"
        },
        "id": "Owqiet9M4TV7",
        "outputId": "891051ca-c3ac-4cd3-aa19-5388373ce0d6"
      },
      "execution_count": null,
      "outputs": [
        {
          "output_type": "stream",
          "name": "stdout",
          "text": [
            "Adjusting learning rate of group 0 to 1.0000e-02.\n",
            "Epoch 1\n"
          ]
        },
        {
          "output_type": "stream",
          "name": "stderr",
          "text": [
            "Train: Loss=2.1065 Batch_id=19 Accuracy=15.73: 100%|██████████| 20/20 [00:04<00:00,  4.55it/s]\n"
          ]
        },
        {
          "output_type": "stream",
          "name": "stdout",
          "text": [
            "Test set: Average loss: 2.0920, Accuracy: 23338/60000 (38.90%)\n",
            "\n",
            "Adjusting learning rate of group 0 to 1.0000e-02.\n",
            "Epoch 2\n"
          ]
        },
        {
          "output_type": "stream",
          "name": "stderr",
          "text": [
            "Train: Loss=2.0079 Batch_id=19 Accuracy=53.96: 100%|██████████| 20/20 [00:02<00:00,  7.57it/s]\n"
          ]
        },
        {
          "output_type": "stream",
          "name": "stdout",
          "text": [
            "Test set: Average loss: 2.0521, Accuracy: 19756/60000 (32.93%)\n",
            "\n",
            "Adjusting learning rate of group 0 to 1.0000e-03.\n",
            "Epoch 3\n"
          ]
        },
        {
          "output_type": "stream",
          "name": "stderr",
          "text": [
            "Train: Loss=1.8054 Batch_id=19 Accuracy=43.62: 100%|██████████| 20/20 [00:02<00:00,  7.69it/s]\n"
          ]
        },
        {
          "output_type": "stream",
          "name": "stdout",
          "text": [
            "Test set: Average loss: 1.8036, Accuracy: 30198/60000 (50.33%)\n",
            "\n",
            "Adjusting learning rate of group 0 to 1.0000e-03.\n",
            "Epoch 4\n"
          ]
        },
        {
          "output_type": "stream",
          "name": "stderr",
          "text": [
            "Train: Loss=1.1266 Batch_id=19 Accuracy=62.84: 100%|██████████| 20/20 [00:02<00:00,  7.73it/s]\n"
          ]
        },
        {
          "output_type": "stream",
          "name": "stdout",
          "text": [
            "Test set: Average loss: 1.2283, Accuracy: 40255/60000 (67.09%)\n",
            "\n",
            "Adjusting learning rate of group 0 to 1.0000e-04.\n",
            "Epoch 5\n"
          ]
        },
        {
          "output_type": "stream",
          "name": "stderr",
          "text": [
            "Train: Loss=1.0101 Batch_id=19 Accuracy=72.20: 100%|██████████| 20/20 [00:02<00:00,  7.58it/s]\n"
          ]
        },
        {
          "output_type": "stream",
          "name": "stdout",
          "text": [
            "Test set: Average loss: 1.1582, Accuracy: 40976/60000 (68.29%)\n",
            "\n",
            "Adjusting learning rate of group 0 to 1.0000e-04.\n",
            "Epoch 6\n"
          ]
        },
        {
          "output_type": "stream",
          "name": "stderr",
          "text": [
            "Train: Loss=0.9853 Batch_id=19 Accuracy=73.25: 100%|██████████| 20/20 [00:02<00:00,  7.60it/s]\n"
          ]
        },
        {
          "output_type": "stream",
          "name": "stdout",
          "text": [
            "Test set: Average loss: 1.0862, Accuracy: 41826/60000 (69.71%)\n",
            "\n",
            "Adjusting learning rate of group 0 to 1.0000e-05.\n",
            "Epoch 7\n"
          ]
        },
        {
          "output_type": "stream",
          "name": "stderr",
          "text": [
            "Train: Loss=0.9359 Batch_id=19 Accuracy=73.96: 100%|██████████| 20/20 [00:02<00:00,  7.44it/s]\n"
          ]
        },
        {
          "output_type": "stream",
          "name": "stdout",
          "text": [
            "Test set: Average loss: 1.0820, Accuracy: 41857/60000 (69.76%)\n",
            "\n",
            "Adjusting learning rate of group 0 to 1.0000e-05.\n",
            "Epoch 8\n"
          ]
        },
        {
          "output_type": "stream",
          "name": "stderr",
          "text": [
            "Train: Loss=0.9978 Batch_id=19 Accuracy=74.14: 100%|██████████| 20/20 [00:02<00:00,  7.33it/s]\n"
          ]
        },
        {
          "output_type": "stream",
          "name": "stdout",
          "text": [
            "Test set: Average loss: 1.0755, Accuracy: 41855/60000 (69.76%)\n",
            "\n",
            "Adjusting learning rate of group 0 to 1.0000e-06.\n",
            "Epoch 9\n"
          ]
        },
        {
          "output_type": "stream",
          "name": "stderr",
          "text": [
            "Train: Loss=0.8654 Batch_id=19 Accuracy=74.24: 100%|██████████| 20/20 [00:02<00:00,  7.59it/s]\n"
          ]
        },
        {
          "output_type": "stream",
          "name": "stdout",
          "text": [
            "Test set: Average loss: 1.0707, Accuracy: 42009/60000 (70.02%)\n",
            "\n",
            "Adjusting learning rate of group 0 to 1.0000e-06.\n",
            "Epoch 10\n"
          ]
        },
        {
          "output_type": "stream",
          "name": "stderr",
          "text": [
            "Train: Loss=0.9499 Batch_id=19 Accuracy=74.25: 100%|██████████| 20/20 [00:03<00:00,  6.33it/s]\n"
          ]
        },
        {
          "output_type": "stream",
          "name": "stdout",
          "text": [
            "Test set: Average loss: 1.0722, Accuracy: 41917/60000 (69.86%)\n",
            "\n",
            "Adjusting learning rate of group 0 to 1.0000e-07.\n",
            "Epoch 11\n"
          ]
        },
        {
          "output_type": "stream",
          "name": "stderr",
          "text": [
            "Train: Loss=0.9465 Batch_id=19 Accuracy=74.26: 100%|██████████| 20/20 [00:03<00:00,  5.38it/s]\n"
          ]
        },
        {
          "output_type": "stream",
          "name": "stdout",
          "text": [
            "Test set: Average loss: 1.0744, Accuracy: 41825/60000 (69.71%)\n",
            "\n",
            "Adjusting learning rate of group 0 to 1.0000e-07.\n",
            "Epoch 12\n"
          ]
        },
        {
          "output_type": "stream",
          "name": "stderr",
          "text": [
            "Train: Loss=0.9292 Batch_id=19 Accuracy=74.27: 100%|██████████| 20/20 [00:03<00:00,  6.43it/s]\n"
          ]
        },
        {
          "output_type": "stream",
          "name": "stdout",
          "text": [
            "Test set: Average loss: 1.0711, Accuracy: 42006/60000 (70.01%)\n",
            "\n",
            "Adjusting learning rate of group 0 to 1.0000e-08.\n",
            "Epoch 13\n"
          ]
        },
        {
          "output_type": "stream",
          "name": "stderr",
          "text": [
            "Train: Loss=0.9154 Batch_id=19 Accuracy=74.28: 100%|██████████| 20/20 [00:02<00:00,  7.79it/s]\n"
          ]
        },
        {
          "output_type": "stream",
          "name": "stdout",
          "text": [
            "Test set: Average loss: 1.0725, Accuracy: 41887/60000 (69.81%)\n",
            "\n",
            "Adjusting learning rate of group 0 to 1.0000e-08.\n",
            "Epoch 14\n"
          ]
        },
        {
          "output_type": "stream",
          "name": "stderr",
          "text": [
            "Train: Loss=1.0092 Batch_id=19 Accuracy=74.28: 100%|██████████| 20/20 [00:03<00:00,  5.39it/s]\n"
          ]
        },
        {
          "output_type": "stream",
          "name": "stdout",
          "text": [
            "Test set: Average loss: 1.0740, Accuracy: 41824/60000 (69.71%)\n",
            "\n",
            "Adjusting learning rate of group 0 to 1.0000e-09.\n",
            "Epoch 15\n"
          ]
        },
        {
          "output_type": "stream",
          "name": "stderr",
          "text": [
            "Train: Loss=0.9056 Batch_id=19 Accuracy=74.28: 100%|██████████| 20/20 [00:03<00:00,  5.87it/s]\n"
          ]
        },
        {
          "output_type": "stream",
          "name": "stdout",
          "text": [
            "Test set: Average loss: 1.0698, Accuracy: 41975/60000 (69.96%)\n",
            "\n",
            "Adjusting learning rate of group 0 to 1.0000e-09.\n",
            "Epoch 16\n"
          ]
        },
        {
          "output_type": "stream",
          "name": "stderr",
          "text": [
            "Train: Loss=0.8584 Batch_id=19 Accuracy=74.28: 100%|██████████| 20/20 [00:03<00:00,  6.48it/s]\n"
          ]
        },
        {
          "output_type": "stream",
          "name": "stdout",
          "text": [
            "Test set: Average loss: 1.0724, Accuracy: 41877/60000 (69.80%)\n",
            "\n",
            "Adjusting learning rate of group 0 to 1.0000e-10.\n",
            "Epoch 17\n"
          ]
        },
        {
          "output_type": "stream",
          "name": "stderr",
          "text": [
            "Train: Loss=0.9437 Batch_id=19 Accuracy=74.28: 100%|██████████| 20/20 [00:02<00:00,  7.63it/s]\n"
          ]
        },
        {
          "output_type": "stream",
          "name": "stdout",
          "text": [
            "Test set: Average loss: 1.0728, Accuracy: 41868/60000 (69.78%)\n",
            "\n",
            "Adjusting learning rate of group 0 to 1.0000e-10.\n",
            "Epoch 18\n"
          ]
        },
        {
          "output_type": "stream",
          "name": "stderr",
          "text": [
            "Train: Loss=0.9578 Batch_id=19 Accuracy=74.28: 100%|██████████| 20/20 [00:03<00:00,  5.70it/s]\n"
          ]
        },
        {
          "output_type": "stream",
          "name": "stdout",
          "text": [
            "Test set: Average loss: 1.0735, Accuracy: 41875/60000 (69.79%)\n",
            "\n",
            "Adjusting learning rate of group 0 to 1.0000e-11.\n",
            "Epoch 19\n"
          ]
        },
        {
          "output_type": "stream",
          "name": "stderr",
          "text": [
            "Train: Loss=0.9457 Batch_id=19 Accuracy=74.28: 100%|██████████| 20/20 [00:03<00:00,  5.65it/s]\n"
          ]
        },
        {
          "output_type": "stream",
          "name": "stdout",
          "text": [
            "Test set: Average loss: 1.0710, Accuracy: 41961/60000 (69.94%)\n",
            "\n",
            "Adjusting learning rate of group 0 to 1.0000e-11.\n",
            "Epoch 20\n"
          ]
        },
        {
          "output_type": "stream",
          "name": "stderr",
          "text": [
            "Train: Loss=0.9975 Batch_id=19 Accuracy=74.28: 100%|██████████| 20/20 [00:02<00:00,  7.56it/s]\n"
          ]
        },
        {
          "output_type": "stream",
          "name": "stdout",
          "text": [
            "Test set: Average loss: 1.0706, Accuracy: 41925/60000 (69.88%)\n",
            "\n",
            "Adjusting learning rate of group 0 to 1.0000e-12.\n"
          ]
        }
      ]
    },
    {
      "cell_type": "code",
      "source": [
        "fig, axs = plt.subplots(2,2,figsize=(15,10))\n",
        "axs[0, 0].plot(train_losses)\n",
        "axs[0, 0].set_title(\"Training Loss\")\n",
        "axs[1, 0].plot(train_acc)\n",
        "axs[1, 0].set_title(\"Training Accuracy\")\n",
        "axs[0, 1].plot(test_losses)\n",
        "axs[0, 1].set_title(\"Test Loss\")\n",
        "axs[1, 1].plot(test_acc)\n",
        "axs[1, 1].set_title(\"Test Accuracy\")"
      ],
      "metadata": {
        "id": "Wu0l7dli4eC9",
        "colab": {
          "base_uri": "https://localhost:8080/",
          "height": 870
        },
        "outputId": "1782e7e2-709e-4360-9111-e75696c44a50"
      },
      "execution_count": null,
      "outputs": [
        {
          "output_type": "execute_result",
          "data": {
            "text/plain": [
              "Text(0.5, 1.0, 'Test Accuracy')"
            ]
          },
          "metadata": {},
          "execution_count": 25
        },
        {
          "output_type": "display_data",
          "data": {
            "text/plain": [
              "<Figure size 1500x1000 with 4 Axes>"
            ],
            "image/png": "[encoded data removed]"
          },
          "metadata": {}
        }
      ]
    },
    {
      "cell_type": "code",
      "source": [
        "!pip install torchsummary\n",
        "from torchsummary import summary\n",
        "use_cuda = torch.cuda.is_available()\n",
        "device = torch.device(\"cuda\" if use_cuda else \"cpu\")\n",
        "model = Net().to(device)\n",
        "summary(model, input_size=(1, 28, 28))"
      ],
      "metadata": {
        "id": "C8WZPfXe4iK_",
        "colab": {
          "base_uri": "https://localhost:8080/"
        },
        "outputId": "655c3a41-c9c9-40db-df05-ea22bd72fdc1"
      },
      "execution_count": null,
      "outputs": [
        {
          "output_type": "stream",
          "name": "stdout",
          "text": [
            "Looking in indexes: https://pypi.org/simple, https://us-python.pkg.dev/colab-wheels/public/simple/\n",
            "Requirement already satisfied: torchsummary in /usr/local/lib/python3.10/dist-packages (1.5.1)\n",
            "----------------------------------------------------------------\n",
            "        Layer (type)               Output Shape         Param #\n",
            "================================================================\n",
            "            Conv2d-1           [-1, 32, 26, 26]             288\n",
            "            Conv2d-2           [-1, 64, 24, 24]          18,432\n",
            "            Conv2d-3          [-1, 128, 10, 10]          73,728\n",
            "            Conv2d-4            [-1, 512, 8, 8]         589,824\n",
            "            Linear-5                   [-1, 50]         409,600\n",
            "            Linear-6                   [-1, 10]             500\n",
            "================================================================\n",
            "Total params: 1,092,372\n",
            "Trainable params: 1,092,372\n",
            "Non-trainable params: 0\n",
            "----------------------------------------------------------------\n",
            "Input size (MB): 0.00\n",
            "Forward/backward pass size (MB): 0.79\n",
            "Params size (MB): 4.17\n",
            "Estimated Total Size (MB): 4.96\n",
            "----------------------------------------------------------------\n"
          ]
        }
      ]
    },
    {
      "cell_type": "code",
      "source": [
        "            Conv2d-1           [-1, 32, 28, 28]             320\n",
        "            Conv2d-2           [-1, 64, 26, 26]          18,496\n",
        "            Conv2d-3          [-1, 128, 11, 11]          73,856\n",
        "            Conv2d-4            [-1, 512, 9, 9]         590,336\n",
        "            Linear-5                   [-1, 50]         409,650\n",
        "            Linear-6                   [-1, 10]             510\n",
        "================================================================\n",
        "Total params: 1,093,168\n",
        "Trainable params: 1,093,168\n",
        "Non-trainable params: 0\n",
        "----------------------------------------------------------------\n",
        "Input size (MB): 0.00\n",
        "Forward/backward pass size (MB): 0.96\n"
      ],
      "metadata": {
        "id": "rkAqhQ3_2RRD"
      },
      "execution_count": null,
      "outputs": []
    },
    {
      "cell_type": "code",
      "source": [],
      "metadata": {
        "id": "Yb4Yjfuj_uTO"
      },
      "execution_count": null,
      "outputs": []
    }
  ]
}